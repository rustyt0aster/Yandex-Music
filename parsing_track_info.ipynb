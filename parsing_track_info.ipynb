{
 "cells": [
  {
   "cell_type": "markdown",
   "id": "d7ce93f9-fde2-40ce-b7c4-9cd4c807fef8",
   "metadata": {
    "tags": []
   },
   "source": [
    "# Хакатона Практикум х Яндекс Музыка\n",
    "\n",
    "## Проект: Обнаружение каверов музыкальных треков\n",
    "\n",
    "### Команда: Deadline \"Yesterday\"\n",
    "\n",
    "\n",
    "\n",
    "## Этап: Поиск дополнительной информации для трека"
   ]
  },
  {
   "cell_type": "markdown",
   "id": "e103a6bd-a8fb-4210-be54-5ecc8642a592",
   "metadata": {},
   "source": [
    "## Импортируем библиотеки"
   ]
  },
  {
   "cell_type": "code",
   "execution_count": 2,
   "id": "231171fe-c417-41c0-b687-5743f03529ba",
   "metadata": {
    "tags": []
   },
   "outputs": [],
   "source": [
    "import pandas as pd\n",
    "import numpy as np\n",
    "\n",
    "from tqdm import tqdm\n",
    "import musicbrainzngs"
   ]
  },
  {
   "cell_type": "code",
   "execution_count": 3,
   "id": "a8092f88-d652-4e73-8fd3-aea5efa3886e",
   "metadata": {},
   "outputs": [],
   "source": [
    "# Initialize the MusicBrainz API client\n",
    "musicbrainzngs.set_useragent(\"MyApp\", \"1.0\")"
   ]
  },
  {
   "cell_type": "code",
   "execution_count": 4,
   "id": "be520ff5-fdc8-40bc-95d0-26a34c8a567c",
   "metadata": {},
   "outputs": [],
   "source": [
    "import warnings\n",
    "warnings.simplefilter(\"ignore\")"
   ]
  },
  {
   "cell_type": "markdown",
   "id": "d2c3a288-d396-4fc1-9dd7-1f01d09c501a",
   "metadata": {},
   "source": [
    "## Функции написанные для проекта"
   ]
  },
  {
   "cell_type": "code",
   "execution_count": 5,
   "id": "dc9a2002-63bd-4432-a4f0-8ac7f4490d57",
   "metadata": {
    "tags": []
   },
   "outputs": [],
   "source": [
    "# Define a function to fetch MusicBrainz metadata for a given ISRC\n",
    "def fetch_musicbrainz_metadata(isrc):\n",
    "    try:\n",
    "        # Query MusicBrainz for metadata using the ISRC\n",
    "        result = musicbrainzngs.search_recordings(isrc=isrc)\n",
    "         \n",
    "        if 'recording-list' in result and len(result['recording-list']) > 0:\n",
    "            recording = result['recording-list'][len(result['recording-list'])-1]\n",
    "            title = recording['title']\n",
    "            vrem = recording['release-list']\n",
    "            all_date = []\n",
    "            for i in range(len(vrem)):\n",
    "                if 'date' in vrem[i]:\n",
    "                    all_date.append(vrem[i]['date'])\n",
    "                else:\n",
    "                    all_date.append('unknown')\n",
    "                \n",
    "            all_date.sort()     \n",
    "            first_year = all_date[0]\n",
    "            \n",
    "            artist_credit_phrase = result['recording-list'][len(result['recording-list'])-1]['artist-credit-phrase']\n",
    "            \n",
    "            isrc_list = recording['isrc-list']\n",
    "\n",
    "            # Fetch additional metadata from release group\n",
    "            release_group_title = recording['release-list'][::-1][0]['release-group']['title']\n",
    "            release_group_type = recording['release-list'][::-1][0]['release-group']['type']\n",
    "\n",
    "\n",
    "            return {\n",
    "                'title': title,\n",
    "                'release_group_title': release_group_title,\n",
    "                'release_group_type': release_group_type,\n",
    "                'release_year': first_year ,\n",
    "                'artist_credit_phrase': artist_credit_phrase,\n",
    "                'isrc_list': isrc_list\n",
    "            }\n",
    "    \n",
    "    except Exception as e:\n",
    "        print(f\"Error fetching metadata for ISRC {isrc}: {str(e)}\")\n",
    "    \n",
    "    return None"
   ]
  },
  {
   "cell_type": "markdown",
   "id": "14279a1f-cec1-48c9-8aee-5c425a83544e",
   "metadata": {},
   "source": [
    "Проверка работы запроса"
   ]
  },
  {
   "cell_type": "code",
   "execution_count": 6,
   "id": "4ebe48a6-a089-41b4-9580-a0c5df8df60c",
   "metadata": {
    "tags": []
   },
   "outputs": [
    {
     "data": {
      "text/plain": [
       "{'title': 'Endless Summer',\n",
       " 'release_group_title': 'Revisions 2020',\n",
       " 'release_group_type': 'EP',\n",
       " 'release_year': '2020-11-06',\n",
       " 'artist_credit_phrase': 'Josh Pyke & Elana Stone',\n",
       " 'isrc_list': ['AUBM02200152', 'AUBM02000117']}"
      ]
     },
     "execution_count": 6,
     "metadata": {},
     "output_type": "execute_result"
    }
   ],
   "source": [
    "fetch_musicbrainz_metadata('AUBM02000117')"
   ]
  },
  {
   "cell_type": "markdown",
   "id": "1fd88b82-4e0c-4470-846b-73f2fef2c40d",
   "metadata": {},
   "source": [
    "## Закгрузка БД"
   ]
  },
  {
   "cell_type": "markdown",
   "id": "b2bb5523-37d0-493f-9b4d-7324bc62f157",
   "metadata": {},
   "source": [
    "Загрузка исходных данных, откуда будем брать  isrc и вести поиск доп.информации по треку."
   ]
  },
  {
   "cell_type": "code",
   "execution_count": 7,
   "id": "c1f9db3f-1d8a-4ba1-b9a2-9127e79d4971",
   "metadata": {
    "tags": []
   },
   "outputs": [],
   "source": [
    "url_meta = \"./data/meta.json\"\n",
    "df_meta = pd.read_json(url_meta, lines=True)"
   ]
  },
  {
   "cell_type": "code",
   "execution_count": 8,
   "id": "14d90d67-7a7e-40d2-8e6e-a26d6ac0023f",
   "metadata": {
    "tags": []
   },
   "outputs": [
    {
     "data": {
      "text/html": [
       "<div>\n",
       "<style scoped>\n",
       "    .dataframe tbody tr th:only-of-type {\n",
       "        vertical-align: middle;\n",
       "    }\n",
       "\n",
       "    .dataframe tbody tr th {\n",
       "        vertical-align: top;\n",
       "    }\n",
       "\n",
       "    .dataframe thead th {\n",
       "        text-align: right;\n",
       "    }\n",
       "</style>\n",
       "<table border=\"1\" class=\"dataframe\">\n",
       "  <thead>\n",
       "    <tr style=\"text-align: right;\">\n",
       "      <th></th>\n",
       "      <th>track_id</th>\n",
       "      <th>dttm</th>\n",
       "      <th>title</th>\n",
       "      <th>language</th>\n",
       "      <th>isrc</th>\n",
       "      <th>genres</th>\n",
       "      <th>duration</th>\n",
       "    </tr>\n",
       "  </thead>\n",
       "  <tbody>\n",
       "    <tr>\n",
       "      <th>0</th>\n",
       "      <td>c3b9d6a354ca008aa4518329aaa21380</td>\n",
       "      <td>1.639688e+12</td>\n",
       "      <td>Happy New Year</td>\n",
       "      <td>EN</td>\n",
       "      <td>RUB422103970</td>\n",
       "      <td>[DANCE]</td>\n",
       "      <td>161120.0</td>\n",
       "    </tr>\n",
       "    <tr>\n",
       "      <th>1</th>\n",
       "      <td>c57e3d13bbbf5322584a7e92e6f1f7ff</td>\n",
       "      <td>1.637762e+12</td>\n",
       "      <td>Bad Habits</td>\n",
       "      <td>EN</td>\n",
       "      <td>QZN882178276</td>\n",
       "      <td>[ELECTRONICS]</td>\n",
       "      <td>362260.0</td>\n",
       "    </tr>\n",
       "    <tr>\n",
       "      <th>2</th>\n",
       "      <td>955f2aafe8717908c140bf122ba4172d</td>\n",
       "      <td>1.637768e+12</td>\n",
       "      <td>Por Esa Loca Vanidad</td>\n",
       "      <td>None</td>\n",
       "      <td>QZNJZ2122549</td>\n",
       "      <td>[FOLK, LATINFOLK]</td>\n",
       "      <td>260000.0</td>\n",
       "    </tr>\n",
       "    <tr>\n",
       "      <th>3</th>\n",
       "      <td>fae5a077c9956045955dde02143bd8ff</td>\n",
       "      <td>1.637768e+12</td>\n",
       "      <td>Mil Lagrimas</td>\n",
       "      <td>None</td>\n",
       "      <td>QZNJZ2166033</td>\n",
       "      <td>[FOLK, LATINFOLK]</td>\n",
       "      <td>190000.0</td>\n",
       "    </tr>\n",
       "    <tr>\n",
       "      <th>4</th>\n",
       "      <td>6bede082154d34fc18d9a6744bc95bf5</td>\n",
       "      <td>1.637768e+12</td>\n",
       "      <td>Sexo Humo y Alcohol</td>\n",
       "      <td>None</td>\n",
       "      <td>QZNJZ2122551</td>\n",
       "      <td>[FOLK, LATINFOLK]</td>\n",
       "      <td>203000.0</td>\n",
       "    </tr>\n",
       "  </tbody>\n",
       "</table>\n",
       "</div>"
      ],
      "text/plain": [
       "                           track_id          dttm                 title  \\\n",
       "0  c3b9d6a354ca008aa4518329aaa21380  1.639688e+12        Happy New Year   \n",
       "1  c57e3d13bbbf5322584a7e92e6f1f7ff  1.637762e+12            Bad Habits   \n",
       "2  955f2aafe8717908c140bf122ba4172d  1.637768e+12  Por Esa Loca Vanidad   \n",
       "3  fae5a077c9956045955dde02143bd8ff  1.637768e+12          Mil Lagrimas   \n",
       "4  6bede082154d34fc18d9a6744bc95bf5  1.637768e+12   Sexo Humo y Alcohol   \n",
       "\n",
       "  language          isrc             genres  duration  \n",
       "0       EN  RUB422103970            [DANCE]  161120.0  \n",
       "1       EN  QZN882178276      [ELECTRONICS]  362260.0  \n",
       "2     None  QZNJZ2122549  [FOLK, LATINFOLK]  260000.0  \n",
       "3     None  QZNJZ2166033  [FOLK, LATINFOLK]  190000.0  \n",
       "4     None  QZNJZ2122551  [FOLK, LATINFOLK]  203000.0  "
      ]
     },
     "execution_count": 8,
     "metadata": {},
     "output_type": "execute_result"
    }
   ],
   "source": [
    "df_meta.head()"
   ]
  },
  {
   "cell_type": "code",
   "execution_count": 9,
   "id": "901e24fe-1d11-4ef6-bb0d-6e90e8f38e58",
   "metadata": {
    "tags": []
   },
   "outputs": [],
   "source": [
    "unique_isrc = df_meta['isrc'].sort_values().unique()[:-1]"
   ]
  },
  {
   "cell_type": "code",
   "execution_count": 10,
   "id": "99efbe60-0cee-4975-83c5-cb85523e8653",
   "metadata": {
    "tags": []
   },
   "outputs": [
    {
     "data": {
      "text/plain": [
       "array(['AEA0D1828626', 'AEA0D1860569', 'AEA0D1866274', ...,\n",
       "       'ZZOPM2235994', 'ZZOPM2235995', 'ZZOPM2237412'], dtype=object)"
      ]
     },
     "execution_count": 10,
     "metadata": {},
     "output_type": "execute_result"
    }
   ],
   "source": [
    "unique_isrc"
   ]
  },
  {
   "cell_type": "markdown",
   "id": "a4775e67-be5f-42f1-b079-ca75f91129ce",
   "metadata": {},
   "source": [
    "Создадим датафрейм куда будем записывать необходимую инфомрацию"
   ]
  },
  {
   "cell_type": "code",
   "execution_count": 12,
   "id": "7573b980-64c5-4b2e-ae8a-e6d215d5b982",
   "metadata": {
    "tags": []
   },
   "outputs": [],
   "source": [
    "data_isrc = pd.DataFrame(\n",
    "    {\n",
    "        \"isrc\": [np.nan]*len(unique_isrc),\n",
    "        \"artist\": [np.nan]*len(unique_isrc),\n",
    "        'title':[np.nan]*len(unique_isrc),\n",
    "        \"release_year\": [np.nan]*len(unique_isrc),\n",
    "        \"release_group_title\": [np.nan]*len(unique_isrc),\n",
    "        \"release_group_type\": [np.nan]*len(unique_isrc),\n",
    "        \"isrc_list\": [np.nan]*len(unique_isrc)\n",
    "    }\n",
    ")\n"
   ]
  },
  {
   "cell_type": "code",
   "execution_count": 13,
   "id": "8c96bf8b-612d-417f-beec-47b6cd390443",
   "metadata": {
    "tags": []
   },
   "outputs": [
    {
     "data": {
      "text/html": [
       "<div>\n",
       "<style scoped>\n",
       "    .dataframe tbody tr th:only-of-type {\n",
       "        vertical-align: middle;\n",
       "    }\n",
       "\n",
       "    .dataframe tbody tr th {\n",
       "        vertical-align: top;\n",
       "    }\n",
       "\n",
       "    .dataframe thead th {\n",
       "        text-align: right;\n",
       "    }\n",
       "</style>\n",
       "<table border=\"1\" class=\"dataframe\">\n",
       "  <thead>\n",
       "    <tr style=\"text-align: right;\">\n",
       "      <th></th>\n",
       "      <th>isrc</th>\n",
       "      <th>artist</th>\n",
       "      <th>title</th>\n",
       "      <th>release_year</th>\n",
       "      <th>release_group_title</th>\n",
       "      <th>release_group_type</th>\n",
       "      <th>isrc_list</th>\n",
       "    </tr>\n",
       "  </thead>\n",
       "  <tbody>\n",
       "    <tr>\n",
       "      <th>0</th>\n",
       "      <td>NaN</td>\n",
       "      <td>NaN</td>\n",
       "      <td>NaN</td>\n",
       "      <td>NaN</td>\n",
       "      <td>NaN</td>\n",
       "      <td>NaN</td>\n",
       "      <td>NaN</td>\n",
       "    </tr>\n",
       "    <tr>\n",
       "      <th>1</th>\n",
       "      <td>NaN</td>\n",
       "      <td>NaN</td>\n",
       "      <td>NaN</td>\n",
       "      <td>NaN</td>\n",
       "      <td>NaN</td>\n",
       "      <td>NaN</td>\n",
       "      <td>NaN</td>\n",
       "    </tr>\n",
       "    <tr>\n",
       "      <th>2</th>\n",
       "      <td>NaN</td>\n",
       "      <td>NaN</td>\n",
       "      <td>NaN</td>\n",
       "      <td>NaN</td>\n",
       "      <td>NaN</td>\n",
       "      <td>NaN</td>\n",
       "      <td>NaN</td>\n",
       "    </tr>\n",
       "    <tr>\n",
       "      <th>3</th>\n",
       "      <td>NaN</td>\n",
       "      <td>NaN</td>\n",
       "      <td>NaN</td>\n",
       "      <td>NaN</td>\n",
       "      <td>NaN</td>\n",
       "      <td>NaN</td>\n",
       "      <td>NaN</td>\n",
       "    </tr>\n",
       "    <tr>\n",
       "      <th>4</th>\n",
       "      <td>NaN</td>\n",
       "      <td>NaN</td>\n",
       "      <td>NaN</td>\n",
       "      <td>NaN</td>\n",
       "      <td>NaN</td>\n",
       "      <td>NaN</td>\n",
       "      <td>NaN</td>\n",
       "    </tr>\n",
       "    <tr>\n",
       "      <th>5</th>\n",
       "      <td>NaN</td>\n",
       "      <td>NaN</td>\n",
       "      <td>NaN</td>\n",
       "      <td>NaN</td>\n",
       "      <td>NaN</td>\n",
       "      <td>NaN</td>\n",
       "      <td>NaN</td>\n",
       "    </tr>\n",
       "    <tr>\n",
       "      <th>6</th>\n",
       "      <td>NaN</td>\n",
       "      <td>NaN</td>\n",
       "      <td>NaN</td>\n",
       "      <td>NaN</td>\n",
       "      <td>NaN</td>\n",
       "      <td>NaN</td>\n",
       "      <td>NaN</td>\n",
       "    </tr>\n",
       "  </tbody>\n",
       "</table>\n",
       "</div>"
      ],
      "text/plain": [
       "   isrc  artist  title  release_year  release_group_title  release_group_type  \\\n",
       "0   NaN     NaN    NaN           NaN                  NaN                 NaN   \n",
       "1   NaN     NaN    NaN           NaN                  NaN                 NaN   \n",
       "2   NaN     NaN    NaN           NaN                  NaN                 NaN   \n",
       "3   NaN     NaN    NaN           NaN                  NaN                 NaN   \n",
       "4   NaN     NaN    NaN           NaN                  NaN                 NaN   \n",
       "5   NaN     NaN    NaN           NaN                  NaN                 NaN   \n",
       "6   NaN     NaN    NaN           NaN                  NaN                 NaN   \n",
       "\n",
       "   isrc_list  \n",
       "0        NaN  \n",
       "1        NaN  \n",
       "2        NaN  \n",
       "3        NaN  \n",
       "4        NaN  \n",
       "5        NaN  \n",
       "6        NaN  "
      ]
     },
     "execution_count": 13,
     "metadata": {},
     "output_type": "execute_result"
    }
   ],
   "source": [
    "data_isrc.head(7)"
   ]
  },
  {
   "cell_type": "markdown",
   "id": "381700e2-acc2-40ae-b897-17a18b273ed9",
   "metadata": {},
   "source": [
    "Разобъем наш поиск на три части. Значений много и поиск будет вестись долго."
   ]
  },
  {
   "cell_type": "code",
   "execution_count": 14,
   "id": "22519bd9-2fe3-4e3a-931c-1849de0fd118",
   "metadata": {
    "tags": []
   },
   "outputs": [
    {
     "name": "stdout",
     "output_type": "stream",
     "text": [
      "Всего шагов: 71283\n",
      "Делим на три части: 23761.0\n"
     ]
    }
   ],
   "source": [
    "print('Всего шагов:', len(unique_isrc))\n",
    "print('Делим на три части:', len(unique_isrc)/3.0)"
   ]
  },
  {
   "cell_type": "code",
   "execution_count": 15,
   "id": "364e598b-64d4-4389-a777-59bdd2000327",
   "metadata": {
    "tags": []
   },
   "outputs": [],
   "source": [
    "part_1 = unique_isrc[0:int((len(unique_isrc)/3.0))]"
   ]
  },
  {
   "cell_type": "code",
   "execution_count": 16,
   "id": "133cbe32-f292-4962-afd3-2a946c6de27e",
   "metadata": {
    "tags": []
   },
   "outputs": [
    {
     "data": {
      "text/plain": [
       "23761"
      ]
     },
     "execution_count": 16,
     "metadata": {},
     "output_type": "execute_result"
    }
   ],
   "source": [
    "len(part_1)"
   ]
  },
  {
   "cell_type": "code",
   "execution_count": 17,
   "id": "651ac376-5a56-44f7-b3f5-ddb908d42c24",
   "metadata": {
    "tags": []
   },
   "outputs": [
    {
     "data": {
      "text/plain": [
       "array(['AEA0D1828626', 'AEA0D1860569', 'AEA0D1866274', ...,\n",
       "       'QZDFP1932829', 'QZDFP1932830', 'QZDFP1932831'], dtype=object)"
      ]
     },
     "execution_count": 17,
     "metadata": {},
     "output_type": "execute_result"
    }
   ],
   "source": [
    "part_1"
   ]
  },
  {
   "cell_type": "code",
   "execution_count": 18,
   "id": "80bbdbbe-8faa-459b-a07e-e21c4adf42a2",
   "metadata": {
    "tags": []
   },
   "outputs": [],
   "source": [
    "part_2 = unique_isrc[len(part_1):(2*len(part_1))]"
   ]
  },
  {
   "cell_type": "code",
   "execution_count": 19,
   "id": "cb5355e5-ecdc-4766-aad9-65ee8531cabc",
   "metadata": {
    "tags": []
   },
   "outputs": [
    {
     "data": {
      "text/plain": [
       "array(['QZDFP1932832', 'QZDFP1932833', 'QZDFP1932834', ...,\n",
       "       'QZNJW2184128', 'QZNJW2184129', 'QZNJW2184130'], dtype=object)"
      ]
     },
     "execution_count": 19,
     "metadata": {},
     "output_type": "execute_result"
    }
   ],
   "source": [
    "part_2"
   ]
  },
  {
   "cell_type": "code",
   "execution_count": 20,
   "id": "1b8b769f-3e53-4637-85b0-68adcb0d3039",
   "metadata": {
    "tags": []
   },
   "outputs": [
    {
     "data": {
      "text/plain": [
       "23761"
      ]
     },
     "execution_count": 20,
     "metadata": {},
     "output_type": "execute_result"
    }
   ],
   "source": [
    "len(part_2)"
   ]
  },
  {
   "cell_type": "code",
   "execution_count": 21,
   "id": "9d11a092-ab00-4405-9058-39b7d58dc498",
   "metadata": {
    "tags": []
   },
   "outputs": [],
   "source": [
    "part_3 = unique_isrc[(2*len(part_1)):len(unique_isrc)]"
   ]
  },
  {
   "cell_type": "code",
   "execution_count": 22,
   "id": "3875ee17-5211-4b16-8ab4-998605341b7f",
   "metadata": {
    "tags": []
   },
   "outputs": [
    {
     "data": {
      "text/plain": [
       "array(['QZNJW2184131', 'QZNJW2184132', 'QZNJW2184216', ...,\n",
       "       'ZZOPM2235994', 'ZZOPM2235995', 'ZZOPM2237412'], dtype=object)"
      ]
     },
     "execution_count": 22,
     "metadata": {},
     "output_type": "execute_result"
    }
   ],
   "source": [
    "part_3"
   ]
  },
  {
   "cell_type": "code",
   "execution_count": 23,
   "id": "6c9015dd-6e12-481b-932c-9c7ca00d21ea",
   "metadata": {
    "tags": []
   },
   "outputs": [
    {
     "data": {
      "text/plain": [
       "23761"
      ]
     },
     "execution_count": 23,
     "metadata": {},
     "output_type": "execute_result"
    }
   ],
   "source": [
    "len(part_3)"
   ]
  },
  {
   "cell_type": "markdown",
   "id": "bb9a5bcf-75e2-4f3a-a946-c868d6b2d2c8",
   "metadata": {},
   "source": [
    "## Поиск"
   ]
  },
  {
   "cell_type": "code",
   "execution_count": 24,
   "id": "e6e8909e-a9c9-4410-bd45-360a54f01901",
   "metadata": {},
   "outputs": [
    {
     "name": "stderr",
     "output_type": "stream",
     "text": [
      " 51%|█████     | 12162/23761 [3:23:29<3:04:40,  1.05it/s]"
     ]
    },
    {
     "name": "stdout",
     "output_type": "stream",
     "text": [
      "Error fetching metadata for ISRC RUB422202211: caused by: <urlopen error [Errno 61] Connection refused>\n"
     ]
    },
    {
     "name": "stderr",
     "output_type": "stream",
     "text": [
      " 52%|█████▏    | 12355/23761 [3:26:43<3:10:06,  1.00s/it]"
     ]
    },
    {
     "name": "stdout",
     "output_type": "stream",
     "text": [
      "Error fetching metadata for ISRC RUB631700330: 'type'\n"
     ]
    },
    {
     "name": "stderr",
     "output_type": "stream",
     "text": [
      " 85%|████████▌ | 20281/23761 [5:39:15<57:01,  1.02it/s]  "
     ]
    },
    {
     "name": "stdout",
     "output_type": "stream",
     "text": [
      "Error fetching metadata for ISRC USAT21504066: 'type'\n"
     ]
    },
    {
     "name": "stderr",
     "output_type": "stream",
     "text": [
      " 87%|████████▋ | 20741/23761 [5:46:57<51:25,  1.02s/it]  "
     ]
    },
    {
     "name": "stdout",
     "output_type": "stream",
     "text": [
      "Error fetching metadata for ISRC USDY42032551: 'release-list'\n"
     ]
    },
    {
     "name": "stderr",
     "output_type": "stream",
     "text": [
      " 89%|████████▉ | 21173/23761 [5:54:12<43:47,  1.02s/it]  "
     ]
    },
    {
     "name": "stdout",
     "output_type": "stream",
     "text": [
      "Error fetching metadata for ISRC USHR12040190: 'release-list'\n"
     ]
    },
    {
     "name": "stderr",
     "output_type": "stream",
     "text": [
      " 99%|█████████▊| 23461/23761 [6:32:31<05:03,  1.01s/it]"
     ]
    },
    {
     "name": "stdout",
     "output_type": "stream",
     "text": [
      "Error fetching metadata for ISRC USWWW0202466: 'type'\n"
     ]
    },
    {
     "name": "stderr",
     "output_type": "stream",
     "text": [
      "100%|██████████| 23761/23761 [6:37:32<00:00,  1.00s/it]\n"
     ]
    }
   ],
   "source": [
    "index = 0\n",
    "# Iterate through rows and fetch MusicBrainz metadata\n",
    "for value in tqdm(part_3):\n",
    "    metadata = fetch_musicbrainz_metadata(value)\n",
    "    if (metadata != None):\n",
    "        data_isrc.loc[index, 'isrc'] = value\n",
    "        data_isrc.loc[index, 'title'] = metadata['title']\n",
    "        data_isrc.loc[index, 'release_year'] = metadata['release_year']\n",
    "        data_isrc.loc[index, 'release_group_title'] = metadata['release_group_title']\n",
    "        data_isrc.loc[index, 'release_group_type'] = metadata['release_group_type']\n",
    "        data_isrc.loc[index, 'artist'] = metadata['artist_credit_phrase']\n",
    "        data_isrc.at[index, 'isrc_list'] = metadata['isrc_list']\n",
    "        index += 1\n",
    "\n",
    "data_isrc.to_csv('data_artist_song_p3.csv', sep='\\t')"
   ]
  },
  {
   "cell_type": "code",
   "execution_count": 25,
   "id": "a2f902d9-5114-4323-8e2e-48cc9875eb14",
   "metadata": {},
   "outputs": [
    {
     "data": {
      "text/html": [
       "<div>\n",
       "<style scoped>\n",
       "    .dataframe tbody tr th:only-of-type {\n",
       "        vertical-align: middle;\n",
       "    }\n",
       "\n",
       "    .dataframe tbody tr th {\n",
       "        vertical-align: top;\n",
       "    }\n",
       "\n",
       "    .dataframe thead th {\n",
       "        text-align: right;\n",
       "    }\n",
       "</style>\n",
       "<table border=\"1\" class=\"dataframe\">\n",
       "  <thead>\n",
       "    <tr style=\"text-align: right;\">\n",
       "      <th></th>\n",
       "      <th>isrc</th>\n",
       "      <th>artist</th>\n",
       "      <th>title</th>\n",
       "      <th>release_year</th>\n",
       "      <th>release_group_title</th>\n",
       "      <th>release_group_type</th>\n",
       "      <th>isrc_list</th>\n",
       "    </tr>\n",
       "  </thead>\n",
       "  <tbody>\n",
       "    <tr>\n",
       "      <th>0</th>\n",
       "      <td>QZNJX2130808</td>\n",
       "      <td>plenka</td>\n",
       "      <td>Call Me (slowed)</td>\n",
       "      <td>2021-10-06</td>\n",
       "      <td>Call Me (slowed)</td>\n",
       "      <td>Single</td>\n",
       "      <td>QZNJX2130808</td>\n",
       "    </tr>\n",
       "    <tr>\n",
       "      <th>1</th>\n",
       "      <td>QZNWQ2070741</td>\n",
       "      <td>Tesher</td>\n",
       "      <td>Jalebi Baby</td>\n",
       "      <td>2020-11-13</td>\n",
       "      <td>NRJ Summer Hits Only 2021</td>\n",
       "      <td>Compilation</td>\n",
       "      <td>[QZNWQ2070741]</td>\n",
       "    </tr>\n",
       "    <tr>\n",
       "      <th>2</th>\n",
       "      <td>QZNWQ2087174</td>\n",
       "      <td>UNAVERAGE GANG</td>\n",
       "      <td>Pay the Price</td>\n",
       "      <td>2020-10-31</td>\n",
       "      <td>Revenant</td>\n",
       "      <td>EP</td>\n",
       "      <td>[QZNWQ2087174]</td>\n",
       "    </tr>\n",
       "    <tr>\n",
       "      <th>3</th>\n",
       "      <td>QZNWR2031217</td>\n",
       "      <td>Scott Rill &amp; Yasmin Levy</td>\n",
       "      <td>La alegria</td>\n",
       "      <td>2022-02-25</td>\n",
       "      <td>House Party 2022</td>\n",
       "      <td>Compilation</td>\n",
       "      <td>[QZNWR2031217]</td>\n",
       "    </tr>\n",
       "    <tr>\n",
       "      <th>4</th>\n",
       "      <td>QZNWS2230712</td>\n",
       "      <td>g3ox_em</td>\n",
       "      <td>GigaChad Theme - Phonk House Version</td>\n",
       "      <td>unknown</td>\n",
       "      <td>GigaChad Theme (Phonk House Version)</td>\n",
       "      <td>Single</td>\n",
       "      <td>[QZNWS2230712]</td>\n",
       "    </tr>\n",
       "  </tbody>\n",
       "</table>\n",
       "</div>"
      ],
      "text/plain": [
       "           isrc                    artist  \\\n",
       "0  QZNJX2130808                    plenka   \n",
       "1  QZNWQ2070741                    Tesher   \n",
       "2  QZNWQ2087174            UNAVERAGE GANG   \n",
       "3  QZNWR2031217  Scott Rill & Yasmin Levy   \n",
       "4  QZNWS2230712                   g3ox_em   \n",
       "\n",
       "                                  title release_year  \\\n",
       "0                      Call Me (slowed)   2021-10-06   \n",
       "1                           Jalebi Baby   2020-11-13   \n",
       "2                         Pay the Price   2020-10-31   \n",
       "3                            La alegria   2022-02-25   \n",
       "4  GigaChad Theme - Phonk House Version      unknown   \n",
       "\n",
       "                    release_group_title release_group_type       isrc_list  \n",
       "0                      Call Me (slowed)             Single    QZNJX2130808  \n",
       "1             NRJ Summer Hits Only 2021        Compilation  [QZNWQ2070741]  \n",
       "2                              Revenant                 EP  [QZNWQ2087174]  \n",
       "3                      House Party 2022        Compilation  [QZNWR2031217]  \n",
       "4  GigaChad Theme (Phonk House Version)             Single  [QZNWS2230712]  "
      ]
     },
     "execution_count": 25,
     "metadata": {},
     "output_type": "execute_result"
    }
   ],
   "source": [
    "data_isrc.head()"
   ]
  },
  {
   "cell_type": "code",
   "execution_count": 26,
   "id": "2c8a4a4f-8a33-4539-b465-7512ac578800",
   "metadata": {
    "tags": []
   },
   "outputs": [
    {
     "data": {
      "text/html": [
       "<div>\n",
       "<style scoped>\n",
       "    .dataframe tbody tr th:only-of-type {\n",
       "        vertical-align: middle;\n",
       "    }\n",
       "\n",
       "    .dataframe tbody tr th {\n",
       "        vertical-align: top;\n",
       "    }\n",
       "\n",
       "    .dataframe thead th {\n",
       "        text-align: right;\n",
       "    }\n",
       "</style>\n",
       "<table border=\"1\" class=\"dataframe\">\n",
       "  <thead>\n",
       "    <tr style=\"text-align: right;\">\n",
       "      <th></th>\n",
       "      <th>isrc</th>\n",
       "      <th>artist</th>\n",
       "      <th>title</th>\n",
       "      <th>release_year</th>\n",
       "      <th>release_group_title</th>\n",
       "      <th>release_group_type</th>\n",
       "      <th>isrc_list</th>\n",
       "    </tr>\n",
       "  </thead>\n",
       "  <tbody>\n",
       "    <tr>\n",
       "      <th>71278</th>\n",
       "      <td>NaN</td>\n",
       "      <td>NaN</td>\n",
       "      <td>NaN</td>\n",
       "      <td>NaN</td>\n",
       "      <td>NaN</td>\n",
       "      <td>NaN</td>\n",
       "      <td>NaN</td>\n",
       "    </tr>\n",
       "    <tr>\n",
       "      <th>71279</th>\n",
       "      <td>NaN</td>\n",
       "      <td>NaN</td>\n",
       "      <td>NaN</td>\n",
       "      <td>NaN</td>\n",
       "      <td>NaN</td>\n",
       "      <td>NaN</td>\n",
       "      <td>NaN</td>\n",
       "    </tr>\n",
       "    <tr>\n",
       "      <th>71280</th>\n",
       "      <td>NaN</td>\n",
       "      <td>NaN</td>\n",
       "      <td>NaN</td>\n",
       "      <td>NaN</td>\n",
       "      <td>NaN</td>\n",
       "      <td>NaN</td>\n",
       "      <td>NaN</td>\n",
       "    </tr>\n",
       "    <tr>\n",
       "      <th>71281</th>\n",
       "      <td>NaN</td>\n",
       "      <td>NaN</td>\n",
       "      <td>NaN</td>\n",
       "      <td>NaN</td>\n",
       "      <td>NaN</td>\n",
       "      <td>NaN</td>\n",
       "      <td>NaN</td>\n",
       "    </tr>\n",
       "    <tr>\n",
       "      <th>71282</th>\n",
       "      <td>NaN</td>\n",
       "      <td>NaN</td>\n",
       "      <td>NaN</td>\n",
       "      <td>NaN</td>\n",
       "      <td>NaN</td>\n",
       "      <td>NaN</td>\n",
       "      <td>NaN</td>\n",
       "    </tr>\n",
       "  </tbody>\n",
       "</table>\n",
       "</div>"
      ],
      "text/plain": [
       "      isrc artist title release_year release_group_title release_group_type  \\\n",
       "71278  NaN    NaN   NaN          NaN                 NaN                NaN   \n",
       "71279  NaN    NaN   NaN          NaN                 NaN                NaN   \n",
       "71280  NaN    NaN   NaN          NaN                 NaN                NaN   \n",
       "71281  NaN    NaN   NaN          NaN                 NaN                NaN   \n",
       "71282  NaN    NaN   NaN          NaN                 NaN                NaN   \n",
       "\n",
       "      isrc_list  \n",
       "71278       NaN  \n",
       "71279       NaN  \n",
       "71280       NaN  \n",
       "71281       NaN  \n",
       "71282       NaN  "
      ]
     },
     "execution_count": 26,
     "metadata": {},
     "output_type": "execute_result"
    }
   ],
   "source": [
    "data_isrc.tail()"
   ]
  },
  {
   "cell_type": "code",
   "execution_count": 28,
   "id": "9641d336-a61e-4c5c-b050-e677093e2b7f",
   "metadata": {
    "tags": []
   },
   "outputs": [],
   "source": [
    "data_isrc_2 = pd.DataFrame(\n",
    "    {\n",
    "        \"isrc\": [np.nan]*len(unique_isrc),\n",
    "        \"artist\": [np.nan]*len(unique_isrc),\n",
    "        'title':[np.nan]*len(unique_isrc),\n",
    "        \"release_year\": [np.nan]*len(unique_isrc),\n",
    "        \"release_group_title\": [np.nan]*len(unique_isrc),\n",
    "        \"release_group_type\": [np.nan]*len(unique_isrc),\n",
    "        \"isrc_list\": [np.nan]*len(unique_isrc)\n",
    "    }\n",
    ")\n"
   ]
  },
  {
   "cell_type": "code",
   "execution_count": 29,
   "id": "ee095cd8-690e-403f-9cc5-eff031036ced",
   "metadata": {
    "tags": []
   },
   "outputs": [
    {
     "name": "stderr",
     "output_type": "stream",
     "text": [
      "100%|██████████| 23761/23761 [6:37:32<00:00,  1.00s/it]  \n"
     ]
    }
   ],
   "source": [
    "index = 0\n",
    "# Iterate through rows and fetch MusicBrainz metadata\n",
    "for value in tqdm(part_2):\n",
    "    metadata = fetch_musicbrainz_metadata(value)\n",
    "    if (metadata != None):\n",
    "        data_isrc_2.loc[index, 'isrc'] = value\n",
    "        data_isrc_2.loc[index, 'title'] = metadata['title']\n",
    "        data_isrc_2.loc[index, 'release_year'] = metadata['release_year']\n",
    "        data_isrc_2.loc[index, 'release_group_title'] = metadata['release_group_title']\n",
    "        data_isrc_2.loc[index, 'release_group_type'] = metadata['release_group_type']\n",
    "        data_isrc_2.loc[index, 'artist'] = metadata['artist_credit_phrase']\n",
    "        data_isrc_2.at[index, 'isrc_list'] = metadata['isrc_list']\n",
    "        index += 1\n"
   ]
  },
  {
   "cell_type": "code",
   "execution_count": 30,
   "id": "e2e11faf-5b01-48dd-b774-73e2a9dbb124",
   "metadata": {
    "tags": []
   },
   "outputs": [
    {
     "data": {
      "text/html": [
       "<div>\n",
       "<style scoped>\n",
       "    .dataframe tbody tr th:only-of-type {\n",
       "        vertical-align: middle;\n",
       "    }\n",
       "\n",
       "    .dataframe tbody tr th {\n",
       "        vertical-align: top;\n",
       "    }\n",
       "\n",
       "    .dataframe thead th {\n",
       "        text-align: right;\n",
       "    }\n",
       "</style>\n",
       "<table border=\"1\" class=\"dataframe\">\n",
       "  <thead>\n",
       "    <tr style=\"text-align: right;\">\n",
       "      <th></th>\n",
       "      <th>isrc</th>\n",
       "      <th>artist</th>\n",
       "      <th>title</th>\n",
       "      <th>release_year</th>\n",
       "      <th>release_group_title</th>\n",
       "      <th>release_group_type</th>\n",
       "      <th>isrc_list</th>\n",
       "    </tr>\n",
       "  </thead>\n",
       "  <tbody>\n",
       "    <tr>\n",
       "      <th>0</th>\n",
       "      <td>QZES52065750</td>\n",
       "      <td>Yasumu</td>\n",
       "      <td>Lonely Nights</td>\n",
       "      <td>2020-05-29</td>\n",
       "      <td>Lonely Nights</td>\n",
       "      <td>Single</td>\n",
       "      <td>QZES52065750</td>\n",
       "    </tr>\n",
       "    <tr>\n",
       "      <th>1</th>\n",
       "      <td>QZES62110621</td>\n",
       "      <td>Wasback</td>\n",
       "      <td>Just Dance</td>\n",
       "      <td>2021-06-25</td>\n",
       "      <td>Just Dance</td>\n",
       "      <td>Single</td>\n",
       "      <td>[QZES62110621]</td>\n",
       "    </tr>\n",
       "    <tr>\n",
       "      <th>2</th>\n",
       "      <td>QZES71982312</td>\n",
       "      <td>Tones and I</td>\n",
       "      <td>Dance Monkey</td>\n",
       "      <td></td>\n",
       "      <td>NRJ Hit Music Only 2020</td>\n",
       "      <td>Compilation</td>\n",
       "      <td>[USAT21904532, QZES71982312]</td>\n",
       "    </tr>\n",
       "    <tr>\n",
       "      <th>3</th>\n",
       "      <td>QZES72019010</td>\n",
       "      <td>The Tea Party</td>\n",
       "      <td>Isolation</td>\n",
       "      <td>2021-11-26</td>\n",
       "      <td>Blood Moon Rising</td>\n",
       "      <td>Album</td>\n",
       "      <td>[QZES72019010]</td>\n",
       "    </tr>\n",
       "    <tr>\n",
       "      <th>4</th>\n",
       "      <td>QZES82063366</td>\n",
       "      <td>Aljosha Konstanty &amp; Liam Thomas</td>\n",
       "      <td>Peace of Mind</td>\n",
       "      <td>unknown</td>\n",
       "      <td>Peace of Mind</td>\n",
       "      <td>Single</td>\n",
       "      <td>[QZES82063366]</td>\n",
       "    </tr>\n",
       "  </tbody>\n",
       "</table>\n",
       "</div>"
      ],
      "text/plain": [
       "           isrc                           artist          title release_year  \\\n",
       "0  QZES52065750                           Yasumu  Lonely Nights   2020-05-29   \n",
       "1  QZES62110621                          Wasback     Just Dance   2021-06-25   \n",
       "2  QZES71982312                      Tones and I   Dance Monkey                \n",
       "3  QZES72019010                    The Tea Party      Isolation   2021-11-26   \n",
       "4  QZES82063366  Aljosha Konstanty & Liam Thomas  Peace of Mind      unknown   \n",
       "\n",
       "       release_group_title release_group_type                     isrc_list  \n",
       "0            Lonely Nights             Single                  QZES52065750  \n",
       "1               Just Dance             Single                [QZES62110621]  \n",
       "2  NRJ Hit Music Only 2020        Compilation  [USAT21904532, QZES71982312]  \n",
       "3        Blood Moon Rising              Album                [QZES72019010]  \n",
       "4            Peace of Mind             Single                [QZES82063366]  "
      ]
     },
     "execution_count": 30,
     "metadata": {},
     "output_type": "execute_result"
    }
   ],
   "source": [
    "data_isrc_2.head()"
   ]
  },
  {
   "cell_type": "code",
   "execution_count": 31,
   "id": "6adb5117-9f9c-4eb0-bcd0-f65292dc0302",
   "metadata": {
    "tags": []
   },
   "outputs": [],
   "source": [
    "data_isrc_2.to_csv('data_artist_song_p2.csv', sep='\\t')"
   ]
  },
  {
   "cell_type": "code",
   "execution_count": 32,
   "id": "ccaf00b2-19c5-412c-a518-e010717f2825",
   "metadata": {
    "tags": []
   },
   "outputs": [],
   "source": [
    "data_isrc_3 = pd.DataFrame(\n",
    "    {\n",
    "        \"isrc\": [np.nan]*len(unique_isrc),\n",
    "        \"artist\": [np.nan]*len(unique_isrc),\n",
    "        'title':[np.nan]*len(unique_isrc),\n",
    "        \"release_year\": [np.nan]*len(unique_isrc),\n",
    "        \"release_group_title\": [np.nan]*len(unique_isrc),\n",
    "        \"release_group_type\": [np.nan]*len(unique_isrc),\n",
    "        \"isrc_list\": [np.nan]*len(unique_isrc)\n",
    "    }\n",
    ")\n"
   ]
  },
  {
   "cell_type": "code",
   "execution_count": 33,
   "id": "6331096d-8d77-4580-b39a-81fde17e7fc0",
   "metadata": {
    "tags": []
   },
   "outputs": [
    {
     "name": "stderr",
     "output_type": "stream",
     "text": [
      " 44%|████▍     | 10469/23761 [2:55:03<3:41:24,  1.00it/s]"
     ]
    },
    {
     "name": "stdout",
     "output_type": "stream",
     "text": [
      "Error fetching metadata for ISRC FR59R1767337: 'type'\n"
     ]
    },
    {
     "name": "stderr",
     "output_type": "stream",
     "text": [
      " 73%|███████▎  | 17325/23761 [4:50:03<1:46:56,  1.00it/s]"
     ]
    },
    {
     "name": "stdout",
     "output_type": "stream",
     "text": [
      "Error fetching metadata for ISRC NLB151800189: 'type'\n"
     ]
    },
    {
     "name": "stderr",
     "output_type": "stream",
     "text": [
      " 73%|███████▎  | 17326/23761 [4:50:04<1:47:27,  1.00s/it]"
     ]
    },
    {
     "name": "stdout",
     "output_type": "stream",
     "text": [
      "Error fetching metadata for ISRC NLB151800191: 'type'\n"
     ]
    },
    {
     "name": "stderr",
     "output_type": "stream",
     "text": [
      " 90%|████████▉ | 21340/23761 [5:57:24<42:01,  1.04s/it]  "
     ]
    },
    {
     "name": "stdout",
     "output_type": "stream",
     "text": [
      "Error fetching metadata for ISRC QMZM51800007: 'type'\n"
     ]
    },
    {
     "name": "stderr",
     "output_type": "stream",
     "text": [
      "100%|██████████| 23761/23761 [6:37:59<00:00,  1.00s/it]\n"
     ]
    }
   ],
   "source": [
    "index = 0\n",
    "# Iterate through rows and fetch MusicBrainz metadata\n",
    "for value in tqdm(part_1):\n",
    "    metadata = fetch_musicbrainz_metadata(value)\n",
    "    if (metadata != None):\n",
    "        data_isrc_3.loc[index, 'isrc'] = value\n",
    "        data_isrc_3.loc[index, 'title'] = metadata['title']\n",
    "        data_isrc_3.loc[index, 'release_year'] = metadata['release_year']\n",
    "        data_isrc_3.loc[index, 'release_group_title'] = metadata['release_group_title']\n",
    "        data_isrc_3.loc[index, 'release_group_type'] = metadata['release_group_type']\n",
    "        data_isrc_3.loc[index, 'artist'] = metadata['artist_credit_phrase']\n",
    "        data_isrc_3.at[index, 'isrc_list'] = metadata['isrc_list']\n",
    "        index += 1\n",
    "        \n",
    "data_isrc_3.to_csv('data_artist_song_p1.csv', sep='\\t')"
   ]
  },
  {
   "cell_type": "code",
   "execution_count": 34,
   "id": "b34f3c6e-a768-4d23-8d66-1961143b0656",
   "metadata": {
    "tags": []
   },
   "outputs": [
    {
     "data": {
      "text/html": [
       "<div>\n",
       "<style scoped>\n",
       "    .dataframe tbody tr th:only-of-type {\n",
       "        vertical-align: middle;\n",
       "    }\n",
       "\n",
       "    .dataframe tbody tr th {\n",
       "        vertical-align: top;\n",
       "    }\n",
       "\n",
       "    .dataframe thead th {\n",
       "        text-align: right;\n",
       "    }\n",
       "</style>\n",
       "<table border=\"1\" class=\"dataframe\">\n",
       "  <thead>\n",
       "    <tr style=\"text-align: right;\">\n",
       "      <th></th>\n",
       "      <th>isrc</th>\n",
       "      <th>artist</th>\n",
       "      <th>title</th>\n",
       "      <th>release_year</th>\n",
       "      <th>release_group_title</th>\n",
       "      <th>release_group_type</th>\n",
       "      <th>isrc_list</th>\n",
       "    </tr>\n",
       "  </thead>\n",
       "  <tbody>\n",
       "    <tr>\n",
       "      <th>0</th>\n",
       "      <td>AEA0D1828626</td>\n",
       "      <td>Markul</td>\n",
       "      <td>Худший друг</td>\n",
       "      <td>2018-10-16</td>\n",
       "      <td>Great Depression</td>\n",
       "      <td>Album</td>\n",
       "      <td>AEA0D1828626</td>\n",
       "    </tr>\n",
       "    <tr>\n",
       "      <th>1</th>\n",
       "      <td>AEA0D2000803</td>\n",
       "      <td>plenka</td>\n",
       "      <td>When You Find Me</td>\n",
       "      <td>2020-09-02</td>\n",
       "      <td>Angle</td>\n",
       "      <td>EP</td>\n",
       "      <td>[AEA0D2000803]</td>\n",
       "    </tr>\n",
       "    <tr>\n",
       "      <th>2</th>\n",
       "      <td>AEA0Q1921861</td>\n",
       "      <td>Intelligency</td>\n",
       "      <td>August</td>\n",
       "      <td>2020-03-19</td>\n",
       "      <td>Renovatio</td>\n",
       "      <td>Album</td>\n",
       "      <td>[AEA0Q1921861]</td>\n",
       "    </tr>\n",
       "    <tr>\n",
       "      <th>3</th>\n",
       "      <td>AEA2D2200207</td>\n",
       "      <td>R3HAB</td>\n",
       "      <td>My Pony</td>\n",
       "      <td>2022-07-29</td>\n",
       "      <td>Bravo Hits 118</td>\n",
       "      <td>Compilation</td>\n",
       "      <td>[AEA2D2200207]</td>\n",
       "    </tr>\n",
       "    <tr>\n",
       "      <th>4</th>\n",
       "      <td>ARF410500095</td>\n",
       "      <td>Karen Souza</td>\n",
       "      <td>Do You Really Want to Hurt Me</td>\n",
       "      <td></td>\n",
       "      <td>Essentials</td>\n",
       "      <td>Album</td>\n",
       "      <td>[ARF410500095]</td>\n",
       "    </tr>\n",
       "  </tbody>\n",
       "</table>\n",
       "</div>"
      ],
      "text/plain": [
       "           isrc        artist                          title release_year  \\\n",
       "0  AEA0D1828626        Markul                    Худший друг   2018-10-16   \n",
       "1  AEA0D2000803        plenka               When You Find Me   2020-09-02   \n",
       "2  AEA0Q1921861  Intelligency                         August   2020-03-19   \n",
       "3  AEA2D2200207         R3HAB                        My Pony   2022-07-29   \n",
       "4  ARF410500095   Karen Souza  Do You Really Want to Hurt Me                \n",
       "\n",
       "  release_group_title release_group_type       isrc_list  \n",
       "0    Great Depression              Album    AEA0D1828626  \n",
       "1               Angle                 EP  [AEA0D2000803]  \n",
       "2           Renovatio              Album  [AEA0Q1921861]  \n",
       "3      Bravo Hits 118        Compilation  [AEA2D2200207]  \n",
       "4          Essentials              Album  [ARF410500095]  "
      ]
     },
     "execution_count": 34,
     "metadata": {},
     "output_type": "execute_result"
    }
   ],
   "source": [
    "data_isrc_3.head()"
   ]
  },
  {
   "cell_type": "code",
   "execution_count": 35,
   "id": "977c68bb-3e74-48e2-b619-8cbdbfb9ef52",
   "metadata": {
    "tags": []
   },
   "outputs": [
    {
     "name": "stdout",
     "output_type": "stream",
     "text": [
      "<class 'pandas.core.frame.DataFrame'>\n",
      "RangeIndex: 71283 entries, 0 to 71282\n",
      "Data columns (total 7 columns):\n",
      " #   Column               Non-Null Count  Dtype \n",
      "---  ------               --------------  ----- \n",
      " 0   isrc                 1418 non-null   object\n",
      " 1   artist               1418 non-null   object\n",
      " 2   title                1418 non-null   object\n",
      " 3   release_year         1418 non-null   object\n",
      " 4   release_group_title  1418 non-null   object\n",
      " 5   release_group_type   1418 non-null   object\n",
      " 6   isrc_list            1418 non-null   object\n",
      "dtypes: object(7)\n",
      "memory usage: 3.8+ MB\n"
     ]
    }
   ],
   "source": [
    "data_isrc_3.info()"
   ]
  },
  {
   "cell_type": "code",
   "execution_count": 36,
   "id": "b05791fe-1117-4ac4-b2a4-b893444900fc",
   "metadata": {
    "tags": []
   },
   "outputs": [],
   "source": [
    "data_isrc_3= data_isrc_3.dropna(how='all')"
   ]
  },
  {
   "cell_type": "code",
   "execution_count": 37,
   "id": "87435053-7c66-471a-93af-02e94b1b58a8",
   "metadata": {
    "tags": []
   },
   "outputs": [
    {
     "name": "stdout",
     "output_type": "stream",
     "text": [
      "<class 'pandas.core.frame.DataFrame'>\n",
      "Index: 1418 entries, 0 to 1417\n",
      "Data columns (total 7 columns):\n",
      " #   Column               Non-Null Count  Dtype \n",
      "---  ------               --------------  ----- \n",
      " 0   isrc                 1418 non-null   object\n",
      " 1   artist               1418 non-null   object\n",
      " 2   title                1418 non-null   object\n",
      " 3   release_year         1418 non-null   object\n",
      " 4   release_group_title  1418 non-null   object\n",
      " 5   release_group_type   1418 non-null   object\n",
      " 6   isrc_list            1418 non-null   object\n",
      "dtypes: object(7)\n",
      "memory usage: 88.6+ KB\n"
     ]
    }
   ],
   "source": [
    "data_isrc_3.info()"
   ]
  },
  {
   "cell_type": "code",
   "execution_count": 38,
   "id": "72c23e48-8a5c-4d54-ba9d-e8236cba2f18",
   "metadata": {
    "tags": []
   },
   "outputs": [
    {
     "name": "stdout",
     "output_type": "stream",
     "text": [
      "<class 'pandas.core.frame.DataFrame'>\n",
      "RangeIndex: 71283 entries, 0 to 71282\n",
      "Data columns (total 7 columns):\n",
      " #   Column               Non-Null Count  Dtype \n",
      "---  ------               --------------  ----- \n",
      " 0   isrc                 85 non-null     object\n",
      " 1   artist               85 non-null     object\n",
      " 2   title                85 non-null     object\n",
      " 3   release_year         85 non-null     object\n",
      " 4   release_group_title  85 non-null     object\n",
      " 5   release_group_type   85 non-null     object\n",
      " 6   isrc_list            85 non-null     object\n",
      "dtypes: object(7)\n",
      "memory usage: 3.8+ MB\n"
     ]
    }
   ],
   "source": [
    "data_isrc_2.info()"
   ]
  },
  {
   "cell_type": "code",
   "execution_count": 39,
   "id": "cc73e5b9-3969-40a7-b0ea-4dfb89514da8",
   "metadata": {
    "tags": []
   },
   "outputs": [],
   "source": [
    "data_isrc_2= data_isrc_2.dropna(how='all')"
   ]
  },
  {
   "cell_type": "code",
   "execution_count": 40,
   "id": "8f3f0a3f-c527-4fbb-838a-7c40178d2e46",
   "metadata": {
    "tags": []
   },
   "outputs": [
    {
     "data": {
      "text/html": [
       "<div>\n",
       "<style scoped>\n",
       "    .dataframe tbody tr th:only-of-type {\n",
       "        vertical-align: middle;\n",
       "    }\n",
       "\n",
       "    .dataframe tbody tr th {\n",
       "        vertical-align: top;\n",
       "    }\n",
       "\n",
       "    .dataframe thead th {\n",
       "        text-align: right;\n",
       "    }\n",
       "</style>\n",
       "<table border=\"1\" class=\"dataframe\">\n",
       "  <thead>\n",
       "    <tr style=\"text-align: right;\">\n",
       "      <th></th>\n",
       "      <th>isrc</th>\n",
       "      <th>artist</th>\n",
       "      <th>title</th>\n",
       "      <th>release_year</th>\n",
       "      <th>release_group_title</th>\n",
       "      <th>release_group_type</th>\n",
       "      <th>isrc_list</th>\n",
       "    </tr>\n",
       "  </thead>\n",
       "  <tbody>\n",
       "    <tr>\n",
       "      <th>0</th>\n",
       "      <td>QZES52065750</td>\n",
       "      <td>Yasumu</td>\n",
       "      <td>Lonely Nights</td>\n",
       "      <td>2020-05-29</td>\n",
       "      <td>Lonely Nights</td>\n",
       "      <td>Single</td>\n",
       "      <td>QZES52065750</td>\n",
       "    </tr>\n",
       "    <tr>\n",
       "      <th>1</th>\n",
       "      <td>QZES62110621</td>\n",
       "      <td>Wasback</td>\n",
       "      <td>Just Dance</td>\n",
       "      <td>2021-06-25</td>\n",
       "      <td>Just Dance</td>\n",
       "      <td>Single</td>\n",
       "      <td>[QZES62110621]</td>\n",
       "    </tr>\n",
       "    <tr>\n",
       "      <th>2</th>\n",
       "      <td>QZES71982312</td>\n",
       "      <td>Tones and I</td>\n",
       "      <td>Dance Monkey</td>\n",
       "      <td></td>\n",
       "      <td>NRJ Hit Music Only 2020</td>\n",
       "      <td>Compilation</td>\n",
       "      <td>[USAT21904532, QZES71982312]</td>\n",
       "    </tr>\n",
       "    <tr>\n",
       "      <th>3</th>\n",
       "      <td>QZES72019010</td>\n",
       "      <td>The Tea Party</td>\n",
       "      <td>Isolation</td>\n",
       "      <td>2021-11-26</td>\n",
       "      <td>Blood Moon Rising</td>\n",
       "      <td>Album</td>\n",
       "      <td>[QZES72019010]</td>\n",
       "    </tr>\n",
       "    <tr>\n",
       "      <th>4</th>\n",
       "      <td>QZES82063366</td>\n",
       "      <td>Aljosha Konstanty &amp; Liam Thomas</td>\n",
       "      <td>Peace of Mind</td>\n",
       "      <td>unknown</td>\n",
       "      <td>Peace of Mind</td>\n",
       "      <td>Single</td>\n",
       "      <td>[QZES82063366]</td>\n",
       "    </tr>\n",
       "    <tr>\n",
       "      <th>...</th>\n",
       "      <td>...</td>\n",
       "      <td>...</td>\n",
       "      <td>...</td>\n",
       "      <td>...</td>\n",
       "      <td>...</td>\n",
       "      <td>...</td>\n",
       "      <td>...</td>\n",
       "    </tr>\n",
       "    <tr>\n",
       "      <th>80</th>\n",
       "      <td>QZMEP2041695</td>\n",
       "      <td>Eric D. Lawrence</td>\n",
       "      <td>Darksiders Genesis (cover)</td>\n",
       "      <td>2020-10-13</td>\n",
       "      <td>Darksiders Genesis (cover)</td>\n",
       "      <td>Single</td>\n",
       "      <td>[QZMEP2041695]</td>\n",
       "    </tr>\n",
       "    <tr>\n",
       "      <th>81</th>\n",
       "      <td>QZMHL2048016</td>\n",
       "      <td>Coopex, Yohan Gerber &amp; Lunis</td>\n",
       "      <td>Radioactive</td>\n",
       "      <td>2020-12-24</td>\n",
       "      <td>Radioactive</td>\n",
       "      <td>Single</td>\n",
       "      <td>[QZMHL2048016]</td>\n",
       "    </tr>\n",
       "    <tr>\n",
       "      <th>82</th>\n",
       "      <td>QZMHN2066557</td>\n",
       "      <td>Arc North, Cour &amp; New Beat Order feat. Lunis</td>\n",
       "      <td>Faded</td>\n",
       "      <td>2020-11-24</td>\n",
       "      <td>Faded</td>\n",
       "      <td>Single</td>\n",
       "      <td>[QZMHN2066557]</td>\n",
       "    </tr>\n",
       "    <tr>\n",
       "      <th>83</th>\n",
       "      <td>QZMHN2097278</td>\n",
       "      <td>Crystal Rock, Felix Schorn &amp; NOTSOBAD ft. City...</td>\n",
       "      <td>Astronaut in the Ocean</td>\n",
       "      <td>2021-05-28</td>\n",
       "      <td>Astronaut in the Ocean</td>\n",
       "      <td>Single</td>\n",
       "      <td>[QZMHN2097278]</td>\n",
       "    </tr>\n",
       "    <tr>\n",
       "      <th>84</th>\n",
       "      <td>QZMJZ2000011</td>\n",
       "      <td>Helion Prime</td>\n",
       "      <td>Kong at the Gates / Forbidden Zone</td>\n",
       "      <td>2020-10-05</td>\n",
       "      <td>Question Everything</td>\n",
       "      <td>Album</td>\n",
       "      <td>[QZMJZ2000011, QZK6P2096005]</td>\n",
       "    </tr>\n",
       "  </tbody>\n",
       "</table>\n",
       "<p>85 rows × 7 columns</p>\n",
       "</div>"
      ],
      "text/plain": [
       "            isrc                                             artist  \\\n",
       "0   QZES52065750                                             Yasumu   \n",
       "1   QZES62110621                                            Wasback   \n",
       "2   QZES71982312                                        Tones and I   \n",
       "3   QZES72019010                                      The Tea Party   \n",
       "4   QZES82063366                    Aljosha Konstanty & Liam Thomas   \n",
       "..           ...                                                ...   \n",
       "80  QZMEP2041695                                   Eric D. Lawrence   \n",
       "81  QZMHL2048016                       Coopex, Yohan Gerber & Lunis   \n",
       "82  QZMHN2066557       Arc North, Cour & New Beat Order feat. Lunis   \n",
       "83  QZMHN2097278  Crystal Rock, Felix Schorn & NOTSOBAD ft. City...   \n",
       "84  QZMJZ2000011                                       Helion Prime   \n",
       "\n",
       "                                 title release_year  \\\n",
       "0                        Lonely Nights   2020-05-29   \n",
       "1                           Just Dance   2021-06-25   \n",
       "2                         Dance Monkey                \n",
       "3                            Isolation   2021-11-26   \n",
       "4                        Peace of Mind      unknown   \n",
       "..                                 ...          ...   \n",
       "80          Darksiders Genesis (cover)   2020-10-13   \n",
       "81                         Radioactive   2020-12-24   \n",
       "82                               Faded   2020-11-24   \n",
       "83              Astronaut in the Ocean   2021-05-28   \n",
       "84  Kong at the Gates / Forbidden Zone   2020-10-05   \n",
       "\n",
       "           release_group_title release_group_type  \\\n",
       "0                Lonely Nights             Single   \n",
       "1                   Just Dance             Single   \n",
       "2      NRJ Hit Music Only 2020        Compilation   \n",
       "3            Blood Moon Rising              Album   \n",
       "4                Peace of Mind             Single   \n",
       "..                         ...                ...   \n",
       "80  Darksiders Genesis (cover)             Single   \n",
       "81                 Radioactive             Single   \n",
       "82                       Faded             Single   \n",
       "83      Astronaut in the Ocean             Single   \n",
       "84         Question Everything              Album   \n",
       "\n",
       "                       isrc_list  \n",
       "0                   QZES52065750  \n",
       "1                 [QZES62110621]  \n",
       "2   [USAT21904532, QZES71982312]  \n",
       "3                 [QZES72019010]  \n",
       "4                 [QZES82063366]  \n",
       "..                           ...  \n",
       "80                [QZMEP2041695]  \n",
       "81                [QZMHL2048016]  \n",
       "82                [QZMHN2066557]  \n",
       "83                [QZMHN2097278]  \n",
       "84  [QZMJZ2000011, QZK6P2096005]  \n",
       "\n",
       "[85 rows x 7 columns]"
      ]
     },
     "execution_count": 40,
     "metadata": {},
     "output_type": "execute_result"
    }
   ],
   "source": [
    "data_isrc_2"
   ]
  },
  {
   "cell_type": "code",
   "execution_count": 41,
   "id": "2919f8ba-34a7-4fa8-9e1e-3b698eaabde7",
   "metadata": {
    "tags": []
   },
   "outputs": [
    {
     "name": "stdout",
     "output_type": "stream",
     "text": [
      "<class 'pandas.core.frame.DataFrame'>\n",
      "Index: 85 entries, 0 to 84\n",
      "Data columns (total 7 columns):\n",
      " #   Column               Non-Null Count  Dtype \n",
      "---  ------               --------------  ----- \n",
      " 0   isrc                 85 non-null     object\n",
      " 1   artist               85 non-null     object\n",
      " 2   title                85 non-null     object\n",
      " 3   release_year         85 non-null     object\n",
      " 4   release_group_title  85 non-null     object\n",
      " 5   release_group_type   85 non-null     object\n",
      " 6   isrc_list            85 non-null     object\n",
      "dtypes: object(7)\n",
      "memory usage: 5.3+ KB\n"
     ]
    }
   ],
   "source": [
    "data_isrc_2.info()"
   ]
  },
  {
   "cell_type": "code",
   "execution_count": 42,
   "id": "4a305a1f-707b-4595-85a1-febbf777205a",
   "metadata": {
    "tags": []
   },
   "outputs": [
    {
     "name": "stdout",
     "output_type": "stream",
     "text": [
      "<class 'pandas.core.frame.DataFrame'>\n",
      "RangeIndex: 71283 entries, 0 to 71282\n",
      "Data columns (total 7 columns):\n",
      " #   Column               Non-Null Count  Dtype \n",
      "---  ------               --------------  ----- \n",
      " 0   isrc                 1622 non-null   object\n",
      " 1   artist               1622 non-null   object\n",
      " 2   title                1622 non-null   object\n",
      " 3   release_year         1622 non-null   object\n",
      " 4   release_group_title  1622 non-null   object\n",
      " 5   release_group_type   1622 non-null   object\n",
      " 6   isrc_list            1622 non-null   object\n",
      "dtypes: object(7)\n",
      "memory usage: 3.8+ MB\n"
     ]
    }
   ],
   "source": [
    "data_isrc.info()"
   ]
  },
  {
   "cell_type": "code",
   "execution_count": 43,
   "id": "d9942da5-b232-4765-acbe-6918c5addad8",
   "metadata": {
    "tags": []
   },
   "outputs": [],
   "source": [
    "data_isrc= data_isrc.dropna(how='all')"
   ]
  },
  {
   "cell_type": "code",
   "execution_count": 44,
   "id": "af627c04-f632-420e-b3d6-28bed26843b3",
   "metadata": {
    "tags": []
   },
   "outputs": [
    {
     "name": "stdout",
     "output_type": "stream",
     "text": [
      "<class 'pandas.core.frame.DataFrame'>\n",
      "Index: 1622 entries, 0 to 1621\n",
      "Data columns (total 7 columns):\n",
      " #   Column               Non-Null Count  Dtype \n",
      "---  ------               --------------  ----- \n",
      " 0   isrc                 1622 non-null   object\n",
      " 1   artist               1622 non-null   object\n",
      " 2   title                1622 non-null   object\n",
      " 3   release_year         1622 non-null   object\n",
      " 4   release_group_title  1622 non-null   object\n",
      " 5   release_group_type   1622 non-null   object\n",
      " 6   isrc_list            1622 non-null   object\n",
      "dtypes: object(7)\n",
      "memory usage: 101.4+ KB\n"
     ]
    }
   ],
   "source": [
    "data_isrc.info()"
   ]
  },
  {
   "cell_type": "markdown",
   "id": "38935e5b-5bc6-495b-b42b-f5d53fc8181d",
   "metadata": {},
   "source": [
    "## Объединение полученных данных в одну таблицу"
   ]
  },
  {
   "cell_type": "code",
   "execution_count": 45,
   "id": "e24ab013-f7f3-4407-acfa-a4831ee9fbf5",
   "metadata": {
    "tags": []
   },
   "outputs": [],
   "source": [
    "data_isrc = pd.concat([data_isrc,data_isrc_2], ignore_index=True)"
   ]
  },
  {
   "cell_type": "code",
   "execution_count": 46,
   "id": "9b3c9b8d-0021-4ef7-a4f8-7bf7a082ebfb",
   "metadata": {
    "tags": []
   },
   "outputs": [
    {
     "name": "stdout",
     "output_type": "stream",
     "text": [
      "<class 'pandas.core.frame.DataFrame'>\n",
      "RangeIndex: 1707 entries, 0 to 1706\n",
      "Data columns (total 7 columns):\n",
      " #   Column               Non-Null Count  Dtype \n",
      "---  ------               --------------  ----- \n",
      " 0   isrc                 1707 non-null   object\n",
      " 1   artist               1707 non-null   object\n",
      " 2   title                1707 non-null   object\n",
      " 3   release_year         1707 non-null   object\n",
      " 4   release_group_title  1707 non-null   object\n",
      " 5   release_group_type   1707 non-null   object\n",
      " 6   isrc_list            1707 non-null   object\n",
      "dtypes: object(7)\n",
      "memory usage: 93.5+ KB\n"
     ]
    }
   ],
   "source": [
    "data_isrc.info()"
   ]
  },
  {
   "cell_type": "code",
   "execution_count": 47,
   "id": "b2b5a140-5349-4592-bd64-ef3b6ba04dee",
   "metadata": {
    "tags": []
   },
   "outputs": [],
   "source": [
    "data_isrc = pd.concat([data_isrc,data_isrc_3], ignore_index=True)"
   ]
  },
  {
   "cell_type": "code",
   "execution_count": 48,
   "id": "746be02c-01e8-4d36-b0e5-fe7c7a2b84d2",
   "metadata": {
    "tags": []
   },
   "outputs": [
    {
     "name": "stdout",
     "output_type": "stream",
     "text": [
      "<class 'pandas.core.frame.DataFrame'>\n",
      "RangeIndex: 3125 entries, 0 to 3124\n",
      "Data columns (total 7 columns):\n",
      " #   Column               Non-Null Count  Dtype \n",
      "---  ------               --------------  ----- \n",
      " 0   isrc                 3125 non-null   object\n",
      " 1   artist               3125 non-null   object\n",
      " 2   title                3125 non-null   object\n",
      " 3   release_year         3125 non-null   object\n",
      " 4   release_group_title  3125 non-null   object\n",
      " 5   release_group_type   3125 non-null   object\n",
      " 6   isrc_list            3125 non-null   object\n",
      "dtypes: object(7)\n",
      "memory usage: 171.0+ KB\n"
     ]
    }
   ],
   "source": [
    "data_isrc.info()"
   ]
  },
  {
   "cell_type": "code",
   "execution_count": 49,
   "id": "99f1523c-db50-47e7-b519-174d7603b8be",
   "metadata": {
    "tags": []
   },
   "outputs": [
    {
     "data": {
      "text/html": [
       "<div>\n",
       "<style scoped>\n",
       "    .dataframe tbody tr th:only-of-type {\n",
       "        vertical-align: middle;\n",
       "    }\n",
       "\n",
       "    .dataframe tbody tr th {\n",
       "        vertical-align: top;\n",
       "    }\n",
       "\n",
       "    .dataframe thead th {\n",
       "        text-align: right;\n",
       "    }\n",
       "</style>\n",
       "<table border=\"1\" class=\"dataframe\">\n",
       "  <thead>\n",
       "    <tr style=\"text-align: right;\">\n",
       "      <th></th>\n",
       "      <th>isrc</th>\n",
       "      <th>artist</th>\n",
       "      <th>title</th>\n",
       "      <th>release_year</th>\n",
       "      <th>release_group_title</th>\n",
       "      <th>release_group_type</th>\n",
       "      <th>isrc_list</th>\n",
       "    </tr>\n",
       "  </thead>\n",
       "  <tbody>\n",
       "    <tr>\n",
       "      <th>0</th>\n",
       "      <td>QZNJX2130808</td>\n",
       "      <td>plenka</td>\n",
       "      <td>Call Me (slowed)</td>\n",
       "      <td>2021-10-06</td>\n",
       "      <td>Call Me (slowed)</td>\n",
       "      <td>Single</td>\n",
       "      <td>QZNJX2130808</td>\n",
       "    </tr>\n",
       "    <tr>\n",
       "      <th>1</th>\n",
       "      <td>QZNWQ2070741</td>\n",
       "      <td>Tesher</td>\n",
       "      <td>Jalebi Baby</td>\n",
       "      <td>2020-11-13</td>\n",
       "      <td>NRJ Summer Hits Only 2021</td>\n",
       "      <td>Compilation</td>\n",
       "      <td>[QZNWQ2070741]</td>\n",
       "    </tr>\n",
       "    <tr>\n",
       "      <th>2</th>\n",
       "      <td>QZNWQ2087174</td>\n",
       "      <td>UNAVERAGE GANG</td>\n",
       "      <td>Pay the Price</td>\n",
       "      <td>2020-10-31</td>\n",
       "      <td>Revenant</td>\n",
       "      <td>EP</td>\n",
       "      <td>[QZNWQ2087174]</td>\n",
       "    </tr>\n",
       "    <tr>\n",
       "      <th>3</th>\n",
       "      <td>QZNWR2031217</td>\n",
       "      <td>Scott Rill &amp; Yasmin Levy</td>\n",
       "      <td>La alegria</td>\n",
       "      <td>2022-02-25</td>\n",
       "      <td>House Party 2022</td>\n",
       "      <td>Compilation</td>\n",
       "      <td>[QZNWR2031217]</td>\n",
       "    </tr>\n",
       "    <tr>\n",
       "      <th>4</th>\n",
       "      <td>QZNWS2230712</td>\n",
       "      <td>g3ox_em</td>\n",
       "      <td>GigaChad Theme - Phonk House Version</td>\n",
       "      <td>unknown</td>\n",
       "      <td>GigaChad Theme (Phonk House Version)</td>\n",
       "      <td>Single</td>\n",
       "      <td>[QZNWS2230712]</td>\n",
       "    </tr>\n",
       "  </tbody>\n",
       "</table>\n",
       "</div>"
      ],
      "text/plain": [
       "           isrc                    artist  \\\n",
       "0  QZNJX2130808                    plenka   \n",
       "1  QZNWQ2070741                    Tesher   \n",
       "2  QZNWQ2087174            UNAVERAGE GANG   \n",
       "3  QZNWR2031217  Scott Rill & Yasmin Levy   \n",
       "4  QZNWS2230712                   g3ox_em   \n",
       "\n",
       "                                  title release_year  \\\n",
       "0                      Call Me (slowed)   2021-10-06   \n",
       "1                           Jalebi Baby   2020-11-13   \n",
       "2                         Pay the Price   2020-10-31   \n",
       "3                            La alegria   2022-02-25   \n",
       "4  GigaChad Theme - Phonk House Version      unknown   \n",
       "\n",
       "                    release_group_title release_group_type       isrc_list  \n",
       "0                      Call Me (slowed)             Single    QZNJX2130808  \n",
       "1             NRJ Summer Hits Only 2021        Compilation  [QZNWQ2070741]  \n",
       "2                              Revenant                 EP  [QZNWQ2087174]  \n",
       "3                      House Party 2022        Compilation  [QZNWR2031217]  \n",
       "4  GigaChad Theme (Phonk House Version)             Single  [QZNWS2230712]  "
      ]
     },
     "execution_count": 49,
     "metadata": {},
     "output_type": "execute_result"
    }
   ],
   "source": [
    "data_isrc.head()"
   ]
  },
  {
   "cell_type": "code",
   "execution_count": 50,
   "id": "3114848c-8ea2-4716-8293-dc71fbd1825e",
   "metadata": {
    "tags": []
   },
   "outputs": [
    {
     "data": {
      "text/html": [
       "<div>\n",
       "<style scoped>\n",
       "    .dataframe tbody tr th:only-of-type {\n",
       "        vertical-align: middle;\n",
       "    }\n",
       "\n",
       "    .dataframe tbody tr th {\n",
       "        vertical-align: top;\n",
       "    }\n",
       "\n",
       "    .dataframe thead th {\n",
       "        text-align: right;\n",
       "    }\n",
       "</style>\n",
       "<table border=\"1\" class=\"dataframe\">\n",
       "  <thead>\n",
       "    <tr style=\"text-align: right;\">\n",
       "      <th></th>\n",
       "      <th>isrc</th>\n",
       "      <th>artist</th>\n",
       "      <th>title</th>\n",
       "      <th>release_year</th>\n",
       "      <th>release_group_title</th>\n",
       "      <th>release_group_type</th>\n",
       "      <th>isrc_list</th>\n",
       "    </tr>\n",
       "  </thead>\n",
       "  <tbody>\n",
       "    <tr>\n",
       "      <th>1707</th>\n",
       "      <td>AEA0D1828626</td>\n",
       "      <td>Markul</td>\n",
       "      <td>Худший друг</td>\n",
       "      <td>2018-10-16</td>\n",
       "      <td>Great Depression</td>\n",
       "      <td>Album</td>\n",
       "      <td>AEA0D1828626</td>\n",
       "    </tr>\n",
       "    <tr>\n",
       "      <th>1708</th>\n",
       "      <td>AEA0D2000803</td>\n",
       "      <td>plenka</td>\n",
       "      <td>When You Find Me</td>\n",
       "      <td>2020-09-02</td>\n",
       "      <td>Angle</td>\n",
       "      <td>EP</td>\n",
       "      <td>[AEA0D2000803]</td>\n",
       "    </tr>\n",
       "    <tr>\n",
       "      <th>1709</th>\n",
       "      <td>AEA0Q1921861</td>\n",
       "      <td>Intelligency</td>\n",
       "      <td>August</td>\n",
       "      <td>2020-03-19</td>\n",
       "      <td>Renovatio</td>\n",
       "      <td>Album</td>\n",
       "      <td>[AEA0Q1921861]</td>\n",
       "    </tr>\n",
       "    <tr>\n",
       "      <th>1710</th>\n",
       "      <td>AEA2D2200207</td>\n",
       "      <td>R3HAB</td>\n",
       "      <td>My Pony</td>\n",
       "      <td>2022-07-29</td>\n",
       "      <td>Bravo Hits 118</td>\n",
       "      <td>Compilation</td>\n",
       "      <td>[AEA2D2200207]</td>\n",
       "    </tr>\n",
       "    <tr>\n",
       "      <th>1711</th>\n",
       "      <td>ARF410500095</td>\n",
       "      <td>Karen Souza</td>\n",
       "      <td>Do You Really Want to Hurt Me</td>\n",
       "      <td></td>\n",
       "      <td>Essentials</td>\n",
       "      <td>Album</td>\n",
       "      <td>[ARF410500095]</td>\n",
       "    </tr>\n",
       "    <tr>\n",
       "      <th>...</th>\n",
       "      <td>...</td>\n",
       "      <td>...</td>\n",
       "      <td>...</td>\n",
       "      <td>...</td>\n",
       "      <td>...</td>\n",
       "      <td>...</td>\n",
       "      <td>...</td>\n",
       "    </tr>\n",
       "    <tr>\n",
       "      <th>1617</th>\n",
       "      <td>ZZOPM2235991</td>\n",
       "      <td>Lofi Fruits Music &amp; Chill Fruits Music</td>\n",
       "      <td>Industry Baby</td>\n",
       "      <td>2022-06-24</td>\n",
       "      <td>Lofi Fruits Remix, Vol. 1</td>\n",
       "      <td>Album</td>\n",
       "      <td>[ZZOPM2235991]</td>\n",
       "    </tr>\n",
       "    <tr>\n",
       "      <th>1618</th>\n",
       "      <td>ZZOPM2235992</td>\n",
       "      <td>Lofi Fruits Music &amp; Chill Fruits Music</td>\n",
       "      <td>Thousand Miles</td>\n",
       "      <td>2022-06-24</td>\n",
       "      <td>Lofi Fruits Remix, Vol. 1</td>\n",
       "      <td>Album</td>\n",
       "      <td>[ZZOPM2235992]</td>\n",
       "    </tr>\n",
       "    <tr>\n",
       "      <th>1619</th>\n",
       "      <td>ZZOPM2235993</td>\n",
       "      <td>Lofi Fruits Music &amp; Chill Fruits Music</td>\n",
       "      <td>Everybody Dies in Their Nightmares</td>\n",
       "      <td>2022-06-24</td>\n",
       "      <td>Lofi Fruits Remix, Vol. 1</td>\n",
       "      <td>Album</td>\n",
       "      <td>[ZZOPM2235993]</td>\n",
       "    </tr>\n",
       "    <tr>\n",
       "      <th>1620</th>\n",
       "      <td>ZZOPM2235994</td>\n",
       "      <td>Lofi Fruits Music &amp; Chill Fruits Music</td>\n",
       "      <td>Can We Kiss Forever?</td>\n",
       "      <td>2022-06-24</td>\n",
       "      <td>Lofi Fruits Remix, Vol. 1</td>\n",
       "      <td>Album</td>\n",
       "      <td>[ZZOPM2235994]</td>\n",
       "    </tr>\n",
       "    <tr>\n",
       "      <th>1621</th>\n",
       "      <td>ZZOPM2235995</td>\n",
       "      <td>Lofi Fruits Music &amp; Chill Fruits Music</td>\n",
       "      <td>Revenge</td>\n",
       "      <td>2022-06-24</td>\n",
       "      <td>Lofi Fruits Remix, Vol. 1</td>\n",
       "      <td>Album</td>\n",
       "      <td>[ZZOPM2235995]</td>\n",
       "    </tr>\n",
       "  </tbody>\n",
       "</table>\n",
       "<p>3125 rows × 7 columns</p>\n",
       "</div>"
      ],
      "text/plain": [
       "              isrc                                  artist  \\\n",
       "1707  AEA0D1828626                                  Markul   \n",
       "1708  AEA0D2000803                                  plenka   \n",
       "1709  AEA0Q1921861                            Intelligency   \n",
       "1710  AEA2D2200207                                   R3HAB   \n",
       "1711  ARF410500095                             Karen Souza   \n",
       "...            ...                                     ...   \n",
       "1617  ZZOPM2235991  Lofi Fruits Music & Chill Fruits Music   \n",
       "1618  ZZOPM2235992  Lofi Fruits Music & Chill Fruits Music   \n",
       "1619  ZZOPM2235993  Lofi Fruits Music & Chill Fruits Music   \n",
       "1620  ZZOPM2235994  Lofi Fruits Music & Chill Fruits Music   \n",
       "1621  ZZOPM2235995  Lofi Fruits Music & Chill Fruits Music   \n",
       "\n",
       "                                   title release_year  \\\n",
       "1707                         Худший друг   2018-10-16   \n",
       "1708                    When You Find Me   2020-09-02   \n",
       "1709                              August   2020-03-19   \n",
       "1710                             My Pony   2022-07-29   \n",
       "1711       Do You Really Want to Hurt Me                \n",
       "...                                  ...          ...   \n",
       "1617                       Industry Baby   2022-06-24   \n",
       "1618                      Thousand Miles   2022-06-24   \n",
       "1619  Everybody Dies in Their Nightmares   2022-06-24   \n",
       "1620                Can We Kiss Forever?   2022-06-24   \n",
       "1621                             Revenge   2022-06-24   \n",
       "\n",
       "            release_group_title release_group_type       isrc_list  \n",
       "1707           Great Depression              Album    AEA0D1828626  \n",
       "1708                      Angle                 EP  [AEA0D2000803]  \n",
       "1709                  Renovatio              Album  [AEA0Q1921861]  \n",
       "1710             Bravo Hits 118        Compilation  [AEA2D2200207]  \n",
       "1711                 Essentials              Album  [ARF410500095]  \n",
       "...                         ...                ...             ...  \n",
       "1617  Lofi Fruits Remix, Vol. 1              Album  [ZZOPM2235991]  \n",
       "1618  Lofi Fruits Remix, Vol. 1              Album  [ZZOPM2235992]  \n",
       "1619  Lofi Fruits Remix, Vol. 1              Album  [ZZOPM2235993]  \n",
       "1620  Lofi Fruits Remix, Vol. 1              Album  [ZZOPM2235994]  \n",
       "1621  Lofi Fruits Remix, Vol. 1              Album  [ZZOPM2235995]  \n",
       "\n",
       "[3125 rows x 7 columns]"
      ]
     },
     "execution_count": 50,
     "metadata": {},
     "output_type": "execute_result"
    }
   ],
   "source": [
    "data_isrc.sort_values(by=['isrc'])"
   ]
  },
  {
   "cell_type": "code",
   "execution_count": 51,
   "id": "df40235a-58d2-43b5-85ba-69b11248b112",
   "metadata": {
    "tags": []
   },
   "outputs": [],
   "source": [
    "data_isrc = data_isrc.sort_values(by=['isrc'])"
   ]
  },
  {
   "cell_type": "markdown",
   "id": "0d233ef1-3123-4253-a142-289a1e0b393d",
   "metadata": {},
   "source": [
    "Запись данных на локальный компьютер"
   ]
  },
  {
   "cell_type": "code",
   "execution_count": 52,
   "id": "e2a3c460-6c4c-41c1-b5e5-dc69ff311922",
   "metadata": {
    "tags": []
   },
   "outputs": [],
   "source": [
    "data_isrc.to_csv('data_artist_song.csv', sep='\\t')"
   ]
  }
 ],
 "metadata": {
  "kernelspec": {
   "display_name": "Python 3 (ipykernel)",
   "language": "python",
   "name": "python3"
  },
  "language_info": {
   "codemirror_mode": {
    "name": "ipython",
    "version": 3
   },
   "file_extension": ".py",
   "mimetype": "text/x-python",
   "name": "python",
   "nbconvert_exporter": "python",
   "pygments_lexer": "ipython3",
   "version": "3.11.5"
  }
 },
 "nbformat": 4,
 "nbformat_minor": 5
}
